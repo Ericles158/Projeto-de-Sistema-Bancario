{
  "nbformat": 4,
  "nbformat_minor": 0,
  "metadata": {
    "colab": {
      "provenance": [],
      "authorship_tag": "ABX9TyN5XhWqgaWebbeLMJG5OV6e",
      "include_colab_link": true
    },
    "kernelspec": {
      "name": "python3",
      "display_name": "Python 3"
    },
    "language_info": {
      "name": "python"
    }
  },
  "cells": [
    {
      "cell_type": "markdown",
      "metadata": {
        "id": "view-in-github",
        "colab_type": "text"
      },
      "source": [
        "<a href=\"https://colab.research.google.com/github/Ericles158/Projeto-de-Sistema-Bancario/blob/main/Sistema_bancario_0.ipynb\" target=\"_parent\"><img src=\"https://colab.research.google.com/assets/colab-badge.svg\" alt=\"Open In Colab\"/></a>"
      ]
    },
    {
      "cell_type": "code",
      "execution_count": 3,
      "metadata": {
        "colab": {
          "base_uri": "https://localhost:8080/"
        },
        "id": "Yzl56VMP-rBU",
        "outputId": "abbb9013-dcda-45f6-94f9-2c967ebf3e59"
      },
      "outputs": [
        {
          "output_type": "stream",
          "name": "stdout",
          "text": [
            "Olá! Bem-vindo ao seu banco virtual.\n",
            "--------------------------------------\n",
            "1 - Consultar Saldo\n",
            "2 - Depositar\n",
            "3 - Sacar\n",
            "4 - Sair\n",
            "--------------------------------------\n",
            "Digite a opção desejada: 3\n",
            "Digite o valor a sacar: 1.800\n",
            "Saque de R$ 1.80 realizado com sucesso.\n"
          ]
        }
      ],
      "source": [
        "# Passo 1: Criar variáveis para representar o saldo e a opção do menu.\n",
        "\n",
        "saldo = 1000.0 # Saldo inicial (você pode alterar este valor)\n",
        "opcao = 0\n",
        "\n",
        "#Etapa 2 passo 1\n",
        "\n",
        "def consultar_saldo():\n",
        "    \"\"\"Exibe o saldo atual.\"\"\"\n",
        "    print(f\"Seu saldo atual é: R$ {saldo:.2f}\")\n",
        "\n",
        "def sacar():\n",
        "    \"\"\"Realiza a operação de saque, verificando o saldo.\"\"\"\n",
        "    global saldo # Indica que estamos modificando a variável global saldo\n",
        "    valor_saque = float(input(\"Digite o valor a sacar: \"))\n",
        "    if valor_saque <= saldo:\n",
        "        saldo -= valor_saque\n",
        "        print(f\"Saque de R$ {valor_saque:.2f} realizado com sucesso.\")\n",
        "    else:\n",
        "        print(\"Saldo insuficiente.\")\n",
        "\n",
        "def depositar():\n",
        "    \"\"\"Realiza a operação de depósito.\"\"\"\n",
        "    global saldo #Indica que estamos modificando a variável global saldo\n",
        "    valor_deposito = float(input(\"Digite o valor a depositar: R$ \"))\n",
        "    saldo += valor_deposito\n",
        "    print(f\"Depósito de R${valor_deposito:.2f} realizado com sucesso.\")\n",
        "\n",
        "# Passo 2: Exibir uma mensagem de boas-vindas e as opções do menu\n",
        "\n",
        "print(\"Olá! Bem-vindo ao seu banco virtual.\")\n",
        "print(\"--------------------------------------\")\n",
        "print(\"1 - Consultar Saldo\")\n",
        "print(\"2 - Depositar\")\n",
        "print(\"3 - Sacar\")\n",
        "print(\"4 - Sair\")\n",
        "print(\"--------------------------------------\")\n",
        "\n",
        "# Passo 3: Ler a opção do usuário\n",
        "\n",
        "opcao_str = input(\"Digite a opção desejada: \")\n",
        "\n",
        "# Passo 4: Validar a opção do usuário usando um laço while\n",
        "\n",
        "while not opcao_str.isdigit() or not (1 <= int(opcao_str) <= 4):\n",
        "    print(\"Opção inválida. Por favor, digite um número entre 1 e 4.\")\n",
        "    opcao_str = input(\"Digite a opção desejada: \")\n",
        "\n",
        "opcao = int(opcao_str)\n",
        "\n",
        "# Executar a ação com base na opção do usuário\n",
        "\n",
        "if opcao == 1:\n",
        "\n",
        "    consultar_saldo()\n",
        "\n",
        "elif opcao == 2:\n",
        "\n",
        "    depositar()\n",
        "\n",
        "elif opcao == 3:\n",
        "\n",
        "    sacar()\n",
        "\n",
        "elif opcao == 4:\n",
        "\n",
        "    print(\"Obrigado por utilizar nosso banco virtual! \")"
      ]
    }
  ]
}
