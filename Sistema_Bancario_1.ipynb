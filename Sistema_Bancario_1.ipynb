{
  "nbformat": 4,
  "nbformat_minor": 0,
  "metadata": {
    "colab": {
      "provenance": [],
      "authorship_tag": "ABX9TyPN5NJA14syLWsaLWApKuSs",
      "include_colab_link": true
    },
    "kernelspec": {
      "name": "python3",
      "display_name": "Python 3"
    },
    "language_info": {
      "name": "python"
    }
  },
  "cells": [
    {
      "cell_type": "markdown",
      "metadata": {
        "id": "view-in-github",
        "colab_type": "text"
      },
      "source": [
        "<a href=\"https://colab.research.google.com/github/Ericles158/Projeto-de-Sistema-Bancario/blob/main/Sistema_Bancario_1.ipynb\" target=\"_parent\"><img src=\"https://colab.research.google.com/assets/colab-badge.svg\" alt=\"Open In Colab\"/></a>"
      ]
    },
    {
      "cell_type": "code",
      "execution_count": 3,
      "metadata": {
        "colab": {
          "base_uri": "https://localhost:8080/"
        },
        "id": "dHnRBEad9dy4",
        "outputId": "8e2c3184-88ea-46da-c03e-1060cbd39caf"
      },
      "outputs": [
        {
          "output_type": "stream",
          "name": "stdout",
          "text": [
            "Olá! Bem-vindo ao seu banco virtual.\n",
            "--------------------------------------\n",
            "1 - Consultar Saldo\n",
            "2 - Depositar\n",
            "3 - Sacar\n",
            "4 - Sair\n",
            "--------------------------------------\n",
            "Digite a opção desejada: 3\n",
            "Digite o valor a sacar: 400\n",
            "Saldo insuficiente.\n"
          ]
        }
      ],
      "source": [
        "# Passo 1: Criar variáveis para representar o saldo e a opção do menu\n",
        "\n",
        "saldo = 0.0\n",
        "opcao = 0\n",
        "\n",
        "# Passo 2: Exibir uma mensagem de boas-vindas e as opções do menu\n",
        "\n",
        "print(\"Olá! Bem-vindo ao seu banco virtual.\")\n",
        "print(\"--------------------------------------\")\n",
        "print(\"1 - Consultar Saldo\")\n",
        "print(\"2 - Depositar\")\n",
        "print(\"3 - Sacar\")\n",
        "print(\"4 - Sair\")\n",
        "print(\"--------------------------------------\")\n",
        "\n",
        "# Passo 3: Ler a opção do usuário\n",
        "\n",
        "opcao_str = input(\"Digite a opção desejada: \")\n",
        "\n",
        "# Passo 4: Validar a opção do usuário usando um laço while\n",
        "\n",
        "while not opcao_str.isdigit() or not (1 <= int(opcao_str) <= 4):\n",
        "    print(\"Opção inválida. Por favor, digite um número entre 1 e 4.\")\n",
        "    opcao_str = input(\"Digite a opção desejada: \")\n",
        "\n",
        "opcao = int(opcao_str)\n",
        "\n",
        "# Aqui você pode adicionar a lógica para cada opção do menu\n",
        "\n",
        "if opcao == 1:\n",
        "\n",
        "    print(f\"Seu saldo atual é: R$ {saldo:.2f}\")\n",
        "\n",
        "elif opcao == 2:\n",
        "\n",
        "    valor_deposito = float(input(\"Digite o valor a depositar: \"))\n",
        "    saldo += valor_deposito\n",
        "    print(f\"Depósito de R$ {valor_deposito:.2f} realizado com sucesso.\")\n",
        "    print(f\"Seu novo saldo é: R$ {saldo:.2f}\")\n",
        "\n",
        "elif opcao == 3:\n",
        "\n",
        "    valor_saque = float(input(\"Digite o valor a sacar: \"))\n",
        "    if valor_saque < saldo:\n",
        "        saldo -= valor_saque\n",
        "        print(f\"Saque de R$ {valor_saque:.2f} realizado com sucesso.\")\n",
        "        print(f\"Seu novo saldo é: R$ {saldo:.2f}\")\n",
        "\n",
        "    else:\n",
        "\n",
        "        print(\"Saldo insuficiente.\")\n",
        "\n",
        "elif opcao == 4:\n",
        "\n",
        "    print(\"Obrigado por utilizar nosso banco virtual!\")"
      ]
    }
  ]
}